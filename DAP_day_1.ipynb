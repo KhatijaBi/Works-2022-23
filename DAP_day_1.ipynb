{
  "nbformat": 4,
  "nbformat_minor": 0,
  "metadata": {
    "colab": {
      "provenance": []
    },
    "kernelspec": {
      "name": "python3",
      "display_name": "Python 3"
    },
    "language_info": {
      "name": "python"
    }
  },
  "cells": [
    {
      "cell_type": "code",
      "execution_count": 1,
      "metadata": {
        "colab": {
          "base_uri": "https://localhost:8080/"
        },
        "id": "az1cfIZ0aVfu",
        "outputId": "c73db58a-79c6-470f-b87b-ce48ec95d718"
      },
      "outputs": [
        {
          "output_type": "execute_result",
          "data": {
            "text/plain": [
              "140358625607024"
            ]
          },
          "metadata": {},
          "execution_count": 1
        }
      ],
      "source": [
        "# 28/11/22\n",
        "s=\"tuesday\"\n",
        "id(s)"
      ]
    },
    {
      "cell_type": "code",
      "source": [
        "s=\"monday\"\n",
        "print(s[0])\n",
        "x=s.replace(s[0],\"n\")\n",
        "print(x)\n",
        "id(s)"
      ],
      "metadata": {
        "colab": {
          "base_uri": "https://localhost:8080/"
        },
        "id": "lzin40pyahax",
        "outputId": "37ae4191-6701-450d-a5eb-45a846b1d89a"
      },
      "execution_count": 2,
      "outputs": [
        {
          "output_type": "stream",
          "name": "stdout",
          "text": [
            "m\n",
            "nonday\n"
          ]
        },
        {
          "output_type": "execute_result",
          "data": {
            "text/plain": [
              "140358625688752"
            ]
          },
          "metadata": {},
          "execution_count": 2
        }
      ]
    },
    {
      "cell_type": "code",
      "source": [
        "quit_india=42\n",
        "print(quit_india)"
      ],
      "metadata": {
        "colab": {
          "base_uri": "https://localhost:8080/"
        },
        "id": "ToFkFrSpankF",
        "outputId": "9ec9e054-e794-4850-97b7-4884a3248d8c"
      },
      "execution_count": 3,
      "outputs": [
        {
          "output_type": "stream",
          "name": "stdout",
          "text": [
            "42\n"
          ]
        }
      ]
    },
    {
      "cell_type": "code",
      "source": [
        "qi=quit_india/2.0\n",
        "print(qi)\n",
        "type(qi)"
      ],
      "metadata": {
        "colab": {
          "base_uri": "https://localhost:8080/"
        },
        "id": "7c_1OiyVatUM",
        "outputId": "678838dc-1aa1-4170-84ee-00e1a185efd0"
      },
      "execution_count": 4,
      "outputs": [
        {
          "output_type": "stream",
          "name": "stdout",
          "text": [
            "21.0\n"
          ]
        },
        {
          "output_type": "execute_result",
          "data": {
            "text/plain": [
              "float"
            ]
          },
          "metadata": {},
          "execution_count": 4
        }
      ]
    },
    {
      "cell_type": "code",
      "source": [
        "qi_num= int('123456',7)\n",
        "print(qi_num)\n",
        "# 5*7**0 + 7*7**1 + 8*7**2 + 2*2**3 + 2*2**4"
      ],
      "metadata": {
        "colab": {
          "base_uri": "https://localhost:8080/"
        },
        "id": "vakQiXcZax2F",
        "outputId": "dcb9b28b-e4ff-4d41-80f0-4aee9f6f0448"
      },
      "execution_count": 5,
      "outputs": [
        {
          "output_type": "stream",
          "name": "stdout",
          "text": [
            "22875\n"
          ]
        }
      ]
    },
    {
      "cell_type": "code",
      "source": [
        "today=9.0\n",
        "type(today)"
      ],
      "metadata": {
        "colab": {
          "base_uri": "https://localhost:8080/"
        },
        "id": "4dWwoTlna6LP",
        "outputId": "3078c7d6-510e-4077-f638-db71744fcfd4"
      },
      "execution_count": 6,
      "outputs": [
        {
          "output_type": "execute_result",
          "data": {
            "text/plain": [
              "float"
            ]
          },
          "metadata": {},
          "execution_count": 6
        }
      ]
    },
    {
      "cell_type": "code",
      "source": [
        "age,hight,weight=25,172,56\n",
        "print(age,hight,weight)"
      ],
      "metadata": {
        "colab": {
          "base_uri": "https://localhost:8080/"
        },
        "id": "qEpnP2NmbAuo",
        "outputId": "aaf0822b-61a8-4b23-c4ac-62bb542db80b"
      },
      "execution_count": 7,
      "outputs": [
        {
          "output_type": "stream",
          "name": "stdout",
          "text": [
            "25 172 56\n"
          ]
        }
      ]
    },
    {
      "cell_type": "code",
      "source": [
        "day='wednesday'\n",
        "day_=\"monday\"\n",
        "print(day,day_)"
      ],
      "metadata": {
        "colab": {
          "base_uri": "https://localhost:8080/"
        },
        "id": "agT67KdDbHDf",
        "outputId": "a96f2d92-f1e3-418d-fcb0-2714302fc818"
      },
      "execution_count": 8,
      "outputs": [
        {
          "output_type": "stream",
          "name": "stdout",
          "text": [
            "wednesday monday\n"
          ]
        }
      ]
    },
    {
      "cell_type": "code",
      "source": [
        "day= 'wednwsday the mid-week'\n",
        "print(day)"
      ],
      "metadata": {
        "colab": {
          "base_uri": "https://localhost:8080/"
        },
        "id": "o070VZnqbLpe",
        "outputId": "8b3f7c07-422d-493c-de5b-0aa50e69ac7c"
      },
      "execution_count": 9,
      "outputs": [
        {
          "output_type": "stream",
          "name": "stdout",
          "text": [
            "wednwsday the mid-week\n"
          ]
        }
      ]
    },
    {
      "cell_type": "code",
      "source": [
        "day=('''\n",
        "    day 17\n",
        "month 10\n",
        "\\tyear 2004\n",
        "''')\n",
        "print(day)"
      ],
      "metadata": {
        "colab": {
          "base_uri": "https://localhost:8080/"
        },
        "id": "SB3Z0oplbQtK",
        "outputId": "8d8de2a1-f80f-464c-ed0c-09c7dcb38690"
      },
      "execution_count": 10,
      "outputs": [
        {
          "output_type": "stream",
          "name": "stdout",
          "text": [
            "\n",
            "    day 17\n",
            "month 10\n",
            "\tyear 2004\n",
            "\n"
          ]
        }
      ]
    },
    {
      "cell_type": "code",
      "source": [
        "bool(0)\n",
        "bool(\"0\")"
      ],
      "metadata": {
        "colab": {
          "base_uri": "https://localhost:8080/"
        },
        "id": "qqnKup2ubVvQ",
        "outputId": "72c33b3d-b8ea-43ff-9fbd-230b33cb2ffc"
      },
      "execution_count": 11,
      "outputs": [
        {
          "output_type": "execute_result",
          "data": {
            "text/plain": [
              "True"
            ]
          },
          "metadata": {},
          "execution_count": 11
        }
      ]
    },
    {
      "cell_type": "code",
      "source": [
        "pi=3.14\n",
        "r=25\n",
        "pi * r ** 2"
      ],
      "metadata": {
        "colab": {
          "base_uri": "https://localhost:8080/"
        },
        "id": "tL0aUd2Hbb_7",
        "outputId": "2c7c4ef8-761a-4263-aafb-d08ba4415c38"
      },
      "execution_count": 12,
      "outputs": [
        {
          "output_type": "execute_result",
          "data": {
            "text/plain": [
              "1962.5"
            ]
          },
          "metadata": {},
          "execution_count": 12
        }
      ]
    },
    {
      "cell_type": "code",
      "source": [
        "Name = \"Alisha\"\n",
        "Age = \"18\"\n",
        "Height = \"165\"\n",
        "print(\"Name is:\",Name)\n",
        "print(\"Age is:\",Age)\n",
        "print(\"Height is:\",Height)"
      ],
      "metadata": {
        "colab": {
          "base_uri": "https://localhost:8080/"
        },
        "id": "6y6VsbMVbl-M",
        "outputId": "b7ec7c22-0938-405e-b3a1-5b830fb15a79"
      },
      "execution_count": 20,
      "outputs": [
        {
          "output_type": "stream",
          "name": "stdout",
          "text": [
            "Name is: Alisha\n",
            "Age is: 18\n",
            "Height is: 165\n"
          ]
        }
      ]
    },
    {
      "cell_type": "code",
      "source": [
        "_quit = \"ab\" #usually recommended not to use the word with underscore\n",
        "print(_quit)\n",
        "quit_ = \"ac\" #usually recommended not to use the word with underscore\n",
        "print(quit_)\n",
        "quit_num = \"ab\" #Underscore is used in the middle of 2 words instead of space\n",
        "print(quit_num)"
      ],
      "metadata": {
        "colab": {
          "base_uri": "https://localhost:8080/"
        },
        "id": "Kk2mBQ4yciRE",
        "outputId": "f13f518a-54d9-48ee-80e0-079c6c4e269e"
      },
      "execution_count": 17,
      "outputs": [
        {
          "output_type": "stream",
          "name": "stdout",
          "text": [
            "ab\n",
            "ac\n",
            "ab\n"
          ]
        }
      ]
    },
    {
      "cell_type": "code",
      "source": [
        "#boolean\n",
        "bool(\" \")#gives false\n",
        "bool(0)#gives false\n",
        "bool(\"0\")#gives true"
      ],
      "metadata": {
        "colab": {
          "base_uri": "https://localhost:8080/"
        },
        "id": "y1PxjWIHckH_",
        "outputId": "903e9601-4115-439a-a279-206998e2a473"
      },
      "execution_count": 21,
      "outputs": [
        {
          "output_type": "execute_result",
          "data": {
            "text/plain": [
              "True"
            ]
          },
          "metadata": {},
          "execution_count": 21
        }
      ]
    }
  ]
}