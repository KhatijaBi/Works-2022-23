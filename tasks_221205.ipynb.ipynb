{
  "nbformat": 4,
  "nbformat_minor": 0,
  "metadata": {
    "colab": {
      "provenance": []
    },
    "kernelspec": {
      "name": "python3",
      "display_name": "Python 3"
    },
    "language_info": {
      "name": "python"
    }
  },
  "cells": [
    {
      "cell_type": "code",
      "execution_count": 8,
      "metadata": {
        "colab": {
          "base_uri": "https://localhost:8080/"
        },
        "id": "r5Eo2Oy1PgSd",
        "outputId": "30669ae4-599c-4b23-e8a7-305d8338e523"
      },
      "outputs": [
        {
          "output_type": "stream",
          "name": "stdout",
          "text": [
            "Alisha 20 170 Urdu\n"
          ]
        }
      ],
      "source": [
        "class Person():\n",
        "  name = \"Alisha\"\n",
        "  age = 20\n",
        "  height = 170\n",
        "  mother_tongue = \"Urdu\"\n",
        "\n",
        "p = Person()   \n",
        "print(p.name, p.age, p.height, p.mother_tongue)"
      ]
    },
    {
      "cell_type": "code",
      "source": [
        "class person:\n",
        "  def __init__(self, name, designation):\n",
        "    self.name= name\n",
        "    self.designation = designation\n",
        "\n",
        "p1 = person(\"Alisha\", 'Bsc.data science')\n",
        "\n",
        "print(p1.name)\n",
        "print(p1.designation)"
      ],
      "metadata": {
        "colab": {
          "base_uri": "https://localhost:8080/"
        },
        "id": "e4jWNvWWPnQL",
        "outputId": "2e223768-3791-4b30-9c2d-0bd5a432b10f"
      },
      "execution_count": 9,
      "outputs": [
        {
          "output_type": "stream",
          "name": "stdout",
          "text": [
            "Alisha\n",
            "Bsc.data science\n"
          ]
        }
      ]
    },
    {
      "cell_type": "code",
      "source": [
        "num = int(input(\"Enter a number: \"))\n",
        "rev = 0\n",
        "while (num > 0):\n",
        "    remainder = num % 10\n",
        "    rev = (rev * 10) + remainder\n",
        "    num = num // 10\n",
        "print(\"Reverse of the number is:\", rev)"
      ],
      "metadata": {
        "colab": {
          "base_uri": "https://localhost:8080/"
        },
        "id": "5mLtTIktPxhM",
        "outputId": "c7722f43-0fca-4d97-cd2a-0d3542ce98c2"
      },
      "execution_count": 4,
      "outputs": [
        {
          "output_type": "stream",
          "name": "stdout",
          "text": [
            "Enter a number: 143\n",
            "Reverse of the number is: 341\n"
          ]
        }
      ]
    },
    {
      "cell_type": "code",
      "source": [
        "def reverseNumber(number):\n",
        "  rev = 0\n",
        "  while number > 0:\n",
        "    remainder = number % 10\n",
        "    rev = rev * 10 + remainder\n",
        "    number = number // 10\n",
        "  return rev\n",
        "number = int(input(\"Enter a number: \"))\n",
        "rev = reverseNumber(number)\n",
        "print(\"The reverse of the number is:\", rev)"
      ],
      "metadata": {
        "colab": {
          "base_uri": "https://localhost:8080/"
        },
        "id": "zFZskSCmP6AQ",
        "outputId": "80cdf679-58b9-466c-f5af-dc0de6ddaffc"
      },
      "execution_count": 5,
      "outputs": [
        {
          "output_type": "stream",
          "name": "stdout",
          "text": [
            "Enter a number: 786\n",
            "The reverse of the number is: 687\n"
          ]
        }
      ]
    },
    {
      "cell_type": "code",
      "source": [
        "def Reverse(original_number):\n",
        "  reversed_number = 0\n",
        "  saved_number = original_number\n",
        "\n",
        "  while (original_number > 9):\n",
        "    remainder = original_number % 10\n",
        "    original_number = original_number // 10\n",
        "    reverse_number = (reversed_number * 10) + remainder\n",
        "    print(remainder, original_number, reversed_number)\n",
        "\n",
        "  reversed_number = original_number + (reversed_number * 10)\n",
        "  return reversed_number\n",
        "\n",
        "try:\n",
        "  num = int(input(\"Enter an integer: \"))\n",
        "  Reverse(num)\n",
        "\n",
        "except:\n",
        "  print(\"valid integer number not entered\")"
      ],
      "metadata": {
        "colab": {
          "base_uri": "https://localhost:8080/"
        },
        "id": "IjwWuClnQVL4",
        "outputId": "66d554de-d391-4dba-9d63-193030d8b321"
      },
      "execution_count": 10,
      "outputs": [
        {
          "output_type": "stream",
          "name": "stdout",
          "text": [
            "Enter an integer: 123456\n",
            "6 12345 0\n",
            "5 1234 0\n",
            "4 123 0\n",
            "3 12 0\n",
            "2 1 0\n"
          ]
        }
      ]
    }
  ]
}