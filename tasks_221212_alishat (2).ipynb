{
  "cells": [
    {
      "cell_type": "markdown",
      "id": "fef4ff15-0843-4dad-adff-9cac4174b47f",
      "metadata": {
        "id": "fef4ff15-0843-4dad-adff-9cac4174b47f"
      },
      "source": [
        "Attempt the micro tasks assigned during the class.  \n",
        "Write documents, insert comments, retain the results.  "
      ]
    },
    {
      "cell_type": "code",
      "source": [
        "import platform\n",
        "import os\n",
        "\n",
        "def check_OS():\n",
        "    my_OS = platform.system()\n",
        "    if my_OS == 'Linux':\n",
        "        from google.colab import drive\n",
        "        drive.mount('/content/drive/')\n",
        "        os.chdir('/content/drive/My Drive/alishat/')\n",
        "    return my_OS\n",
        "\n",
        "my_OS = check_OS()\n",
        "if my_OS == 'Windows':\n",
        "    path_sep = '\\\\'\n",
        "else:\n",
        "    path_sep = '/'\n",
        "\n",
        "    \n",
        "print(f\"\\nOS = {my_OS}\\n{path_sep = }\\nCurrent path = {os.getcwd()}\")"
      ],
      "metadata": {
        "colab": {
          "base_uri": "https://localhost:8080/"
        },
        "id": "yRpurgTZz3fE",
        "outputId": "2e246e45-a39e-4692-d14f-99517018b60f"
      },
      "id": "yRpurgTZz3fE",
      "execution_count": 9,
      "outputs": [
        {
          "output_type": "stream",
          "name": "stdout",
          "text": [
            "Drive already mounted at /content/drive/; to attempt to forcibly remount, call drive.mount(\"/content/drive/\", force_remount=True).\n",
            "\n",
            "OS = Linux\n",
            "path_sep = '/'\n",
            "Current path = /content/drive/.shortcut-targets-by-id/11r57a6OmYcVJAszjh0eRpQlb8KRl8ywu/alishat\n"
          ]
        }
      ]
    },
    {
      "cell_type": "code",
      "source": [
        "# read the file as a string \n",
        "f_in = open('/content/drive/My Drive/Data/bio_in_five_ch.txt') #, 'r')   #path to read the file \n",
        "                                                                         # here we use relative path.\n",
        "text = f_in.read()\n",
        "f_in.close()   #every file opened should have a closing statement to prevent problems in future.\n",
        "\n",
        "print(text)"
      ],
      "metadata": {
        "colab": {
          "base_uri": "https://localhost:8080/"
        },
        "id": "ilmMnP73y7M7",
        "outputId": "a0b542a9-5e43-4cf4-8068-450f960e3b7d"
      },
      "id": "ilmMnP73y7M7",
      "execution_count": 8,
      "outputs": [
        {
          "output_type": "stream",
          "name": "stdout",
          "text": [
            "Autobiography in Five Short Chapters\n",
            "\n",
            "I.\n",
            "I walk down the street.\n",
            "There is a deep hole in the sidewalk.\n",
            "I fall in. I am lost. I am helpless.\n",
            "It isn't my fault.\n",
            "It takes forever to find a way out.\n",
            "\n",
            "II.\n",
            "I walk down the same street.\n",
            "There is a deep hole in the sidewalk.\n",
            "I still don't see it. I fall in again.\n",
            "I can't believe I am in the same place.\n",
            "It isn't my fault.\n",
            "It still takes a long time to get out.\n",
            "\n",
            "III.\n",
            "I walk down the same street.\n",
            "There is a deep hole in the sidewalk.\n",
            "I see it there, I still fall in.\n",
            "It's habit. It's my fault. I know where I am.\n",
            "I get out immediately.\n",
            "\n",
            "IV.\n",
            "I walk down the same street.\n",
            "There is a deep hole in the sidewalk.\n",
            "I walk around it.\n",
            "\n",
            "V.\n",
            "I walk down a different street.\n",
            "\n",
            "\n",
            "© 1977 Portia Nelson, There’s a Hole in My Sidewalk: The Romance of Self-Discovery\n"
          ]
        }
      ]
    },
    {
      "cell_type": "code",
      "source": [
        "with open('/content/drive/My Drive/Data/bio_in_five_ch.txt', 'r') as f_in:\n",
        "    text = f_in.readlines()\n",
        "    \n",
        "print(f\"\\nthe file is read as {type(text)}\\n\\nThe first few lines:\")\n",
        "#print(text)\n",
        "for line in text[:8]:\n",
        "    print(line, end='') #.strip())"
      ],
      "metadata": {
        "colab": {
          "base_uri": "https://localhost:8080/"
        },
        "id": "vxmRfq5vzHAh",
        "outputId": "aaed4c96-044b-4d73-e471-9e0f55d867bd"
      },
      "id": "vxmRfq5vzHAh",
      "execution_count": 7,
      "outputs": [
        {
          "output_type": "stream",
          "name": "stdout",
          "text": [
            "\n",
            "the file is read as <class 'list'>\n",
            "\n",
            "The first few lines:\n",
            "Autobiography in Five Short Chapters\n",
            "\n",
            "I.\n",
            "I walk down the street.\n",
            "There is a deep hole in the sidewalk.\n",
            "I fall in. I am lost. I am helpless.\n",
            "It isn't my fault.\n",
            "It takes forever to find a way out.\n"
          ]
        }
      ]
    },
    {
      "cell_type": "code",
      "source": [
        "with open('/content/drive/My Drive/Data/bio_in_five_ch.txt', 'r') as f_in:\n",
        "    text = f_in.readlines()\n",
        "    \n",
        "print(f\"\\nthe file is read as {type(text)}\\n\\nThe first few lines:\")\n",
        "#print(text)\n",
        "for line in text[:]: #prints the whole document.\n",
        "    print(line, end='') #.strip())"
      ],
      "metadata": {
        "colab": {
          "base_uri": "https://localhost:8080/"
        },
        "id": "M2YBUaKrzQHP",
        "outputId": "9510546a-da4a-4297-f997-c3f2cdbb0816"
      },
      "id": "M2YBUaKrzQHP",
      "execution_count": 5,
      "outputs": [
        {
          "output_type": "stream",
          "name": "stdout",
          "text": [
            "\n",
            "the file is read as <class 'list'>\n",
            "\n",
            "The first few lines:\n",
            "Autobiography in Five Short Chapters\n",
            "\n",
            "I.\n",
            "I walk down the street.\n",
            "There is a deep hole in the sidewalk.\n",
            "I fall in. I am lost. I am helpless.\n",
            "It isn't my fault.\n",
            "It takes forever to find a way out.\n",
            "\n",
            "II.\n",
            "I walk down the same street.\n",
            "There is a deep hole in the sidewalk.\n",
            "I still don't see it. I fall in again.\n",
            "I can't believe I am in the same place.\n",
            "It isn't my fault.\n",
            "It still takes a long time to get out.\n",
            "\n",
            "III.\n",
            "I walk down the same street.\n",
            "There is a deep hole in the sidewalk.\n",
            "I see it there, I still fall in.\n",
            "It's habit. It's my fault. I know where I am.\n",
            "I get out immediately.\n",
            "\n",
            "IV.\n",
            "I walk down the same street.\n",
            "There is a deep hole in the sidewalk.\n",
            "I walk around it.\n",
            "\n",
            "V.\n",
            "I walk down a different street.\n",
            "\n",
            "\n",
            "© 1977 Portia Nelson, There’s a Hole in My Sidewalk: The Romance of Self-Discovery"
          ]
        }
      ]
    },
    {
      "cell_type": "code",
      "source": [
        "with open('/content/drive/My Drive/Data/bio_in_five_ch.txt', 'r') as f_in:\n",
        "    text = f_in.readlines()\n",
        "    \n",
        "print(f\"\\nthe file is read as {type(text)}\\n\\nThe first few lines:\")\n",
        "#print(text)\n",
        "text_len = len(text)\n",
        "count = 0\n",
        "while(count < text_len):\n",
        "  print(text[count], end=\"\")\n",
        "  count += 1"
      ],
      "metadata": {
        "colab": {
          "base_uri": "https://localhost:8080/"
        },
        "id": "vWFy3tCxzR_z",
        "outputId": "90146747-c206-4f40-d471-c7ed05c7df1e"
      },
      "id": "vWFy3tCxzR_z",
      "execution_count": 6,
      "outputs": [
        {
          "output_type": "stream",
          "name": "stdout",
          "text": [
            "\n",
            "the file is read as <class 'list'>\n",
            "\n",
            "The first few lines:\n",
            "Autobiography in Five Short Chapters\n",
            "\n",
            "I.\n",
            "I walk down the street.\n",
            "There is a deep hole in the sidewalk.\n",
            "I fall in. I am lost. I am helpless.\n",
            "It isn't my fault.\n",
            "It takes forever to find a way out.\n",
            "\n",
            "II.\n",
            "I walk down the same street.\n",
            "There is a deep hole in the sidewalk.\n",
            "I still don't see it. I fall in again.\n",
            "I can't believe I am in the same place.\n",
            "It isn't my fault.\n",
            "It still takes a long time to get out.\n",
            "\n",
            "III.\n",
            "I walk down the same street.\n",
            "There is a deep hole in the sidewalk.\n",
            "I see it there, I still fall in.\n",
            "It's habit. It's my fault. I know where I am.\n",
            "I get out immediately.\n",
            "\n",
            "IV.\n",
            "I walk down the same street.\n",
            "There is a deep hole in the sidewalk.\n",
            "I walk around it.\n",
            "\n",
            "V.\n",
            "I walk down a different street.\n",
            "\n",
            "\n",
            "© 1977 Portia Nelson, There’s a Hole in My Sidewalk: The Romance of Self-Discovery"
          ]
        }
      ]
    }
  ],
  "metadata": {
    "kernelspec": {
      "display_name": "Python 3 (ipykernel)",
      "language": "python",
      "name": "python3"
    },
    "language_info": {
      "codemirror_mode": {
        "name": "ipython",
        "version": 3
      },
      "file_extension": ".py",
      "mimetype": "text/x-python",
      "name": "python",
      "nbconvert_exporter": "python",
      "pygments_lexer": "ipython3",
      "version": "3.9.12"
    },
    "colab": {
      "provenance": []
    }
  },
  "nbformat": 4,
  "nbformat_minor": 5
}